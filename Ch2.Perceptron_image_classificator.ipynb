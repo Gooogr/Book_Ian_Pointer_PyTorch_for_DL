{
  "nbformat": 4,
  "nbformat_minor": 0,
  "metadata": {
    "accelerator": "GPU",
    "colab": {
      "name": "Chapter 2. Perceptron image classificator.ipynb",
      "provenance": [],
      "collapsed_sections": [],
      "include_colab_link": true
    },
    "kernelspec": {
      "display_name": "Python 3",
      "language": "python",
      "name": "python3"
    },
    "language_info": {
      "codemirror_mode": {
        "name": "ipython",
        "version": 3
      },
      "file_extension": ".py",
      "mimetype": "text/x-python",
      "name": "python",
      "nbconvert_exporter": "python",
      "pygments_lexer": "ipython3",
      "version": "3.7.8"
    }
  },
  "cells": [
    {
      "cell_type": "markdown",
      "metadata": {
        "id": "view-in-github",
        "colab_type": "text"
      },
      "source": [
        "<a href=\"https://colab.research.google.com/github/Gooogr/Book_Ian_Pointer_PyTorch_for_DL/blob/master/Ch2.Perceptron_image_classificator.ipynb\" target=\"_parent\"><img src=\"https://colab.research.google.com/assets/colab-badge.svg\" alt=\"Open In Colab\"/></a>"
      ]
    },
    {
      "cell_type": "code",
      "metadata": {
        "id": "wmzcWSLpk0KA"
      },
      "source": [
        "import os\n",
        "\n",
        "import torch\n",
        "import torch.nn as nn\n",
        "import torch.nn.functional as F\n",
        "import torch.optim as optim\n",
        "import torchvision\n",
        "from torchvision import transforms\n",
        "\n",
        "from PIL import Image\n",
        "import matplotlib.pyplot as plt\n",
        "\n",
        "import numpy as np\n",
        "import cv2\n",
        "import urllib.request"
      ],
      "execution_count": 1,
      "outputs": []
    },
    {
      "cell_type": "code",
      "metadata": {
        "colab": {
          "base_uri": "https://localhost:8080/"
        },
        "id": "FOdAkG5FT5HA",
        "outputId": "ac5585a0-4aa7-4c02-d32f-130a81ec24e5"
      },
      "source": [
        "# Mount Google disk \n",
        "from google.colab import drive\n",
        "drive.mount(\"/content/drive\", force_remount=True)\n",
        "! ln -s \"/content/drive/My Drive\" \"/content/mydrive\""
      ],
      "execution_count": 40,
      "outputs": [
        {
          "output_type": "stream",
          "text": [
            "Mounted at /content/drive\n"
          ],
          "name": "stdout"
        }
      ]
    },
    {
      "cell_type": "code",
      "metadata": {
        "colab": {
          "base_uri": "https://localhost:8080/"
        },
        "id": "AU_XTsb-lA0t",
        "outputId": "abe6ea89-8e41-49af-f6d9-5f36133ea4b2"
      },
      "source": [
        "! nvidia-smi"
      ],
      "execution_count": 2,
      "outputs": [
        {
          "output_type": "stream",
          "text": [
            "Tue May  4 11:57:26 2021       \n",
            "+-----------------------------------------------------------------------------+\n",
            "| NVIDIA-SMI 465.19.01    Driver Version: 460.32.03    CUDA Version: 11.2     |\n",
            "|-------------------------------+----------------------+----------------------+\n",
            "| GPU  Name        Persistence-M| Bus-Id        Disp.A | Volatile Uncorr. ECC |\n",
            "| Fan  Temp  Perf  Pwr:Usage/Cap|         Memory-Usage | GPU-Util  Compute M. |\n",
            "|                               |                      |               MIG M. |\n",
            "|===============================+======================+======================|\n",
            "|   0  Tesla P100-PCIE...  Off  | 00000000:00:04.0 Off |                    0 |\n",
            "| N/A   33C    P0    27W / 250W |      0MiB / 16280MiB |      0%      Default |\n",
            "|                               |                      |                  N/A |\n",
            "+-------------------------------+----------------------+----------------------+\n",
            "                                                                               \n",
            "+-----------------------------------------------------------------------------+\n",
            "| Processes:                                                                  |\n",
            "|  GPU   GI   CI        PID   Type   Process name                  GPU Memory |\n",
            "|        ID   ID                                                   Usage      |\n",
            "|=============================================================================|\n",
            "|  No running processes found                                                 |\n",
            "+-----------------------------------------------------------------------------+\n"
          ],
          "name": "stdout"
        }
      ]
    },
    {
      "cell_type": "code",
      "metadata": {
        "id": "LYkhv6NNk0Kb"
      },
      "source": [
        "BATCH_SIZE = 32\n",
        "INPUT_SIZE = 64\n",
        "EPOCHS = 10\n",
        "PROJECT_FOLDER = '/content/mydrive/colab_notebooks/Book_PyTorch'"
      ],
      "execution_count": 41,
      "outputs": []
    },
    {
      "cell_type": "markdown",
      "metadata": {
        "id": "2FpU4YC7k0Kx"
      },
      "source": [
        "**Prepare dataset**"
      ]
    },
    {
      "cell_type": "code",
      "metadata": {
        "colab": {
          "base_uri": "https://localhost:8080/"
        },
        "id": "dhSOtJ9jxYkt",
        "outputId": "3517b8e6-1791-4207-aef4-7dabbf105e1d"
      },
      "source": [
        "% mkdir --parents ./datasets/fish_and_cat\n",
        "% cd ./datasets/fish_and_cat"
      ],
      "execution_count": 4,
      "outputs": [
        {
          "output_type": "stream",
          "text": [
            "/content/datasets/fish_and_cat\n"
          ],
          "name": "stdout"
        }
      ]
    },
    {
      "cell_type": "code",
      "metadata": {
        "id": "N4ttz2hjmHB9"
      },
      "source": [
        "! wget --quiet https://raw.githubusercontent.com/falloutdurham/beginners-pytorch-deep-learning/master/chapter2/download.py\n",
        "! wget --quiet https://raw.githubusercontent.com/falloutdurham/beginners-pytorch-deep-learning/master/chapter2/images.csv"
      ],
      "execution_count": 5,
      "outputs": []
    },
    {
      "cell_type": "code",
      "metadata": {
        "id": "75Ns1Nalk0K0"
      },
      "source": [
        "%%capture\n",
        "!python download.py\n",
        "# Takes ~ 20 min in google collab"
      ],
      "execution_count": 6,
      "outputs": []
    },
    {
      "cell_type": "code",
      "metadata": {
        "colab": {
          "base_uri": "https://localhost:8080/"
        },
        "id": "GL6SeVjVxYkv",
        "outputId": "5f3dc2c2-0783-42f6-eca9-c8c1b33f7981"
      },
      "source": [
        "# Return to root of project\n",
        "% cd ../../"
      ],
      "execution_count": 7,
      "outputs": [
        {
          "output_type": "stream",
          "text": [
            "/content\n"
          ],
          "name": "stdout"
        }
      ]
    },
    {
      "cell_type": "markdown",
      "metadata": {
        "id": "bWzHekfSk0Ls"
      },
      "source": [
        "Setting up directories pathes"
      ]
    },
    {
      "cell_type": "code",
      "metadata": {
        "id": "hsDKWy7Ck0Lu"
      },
      "source": [
        "train_path = './datasets/fish_and_cat/train/'\n",
        "val_path = './datasets/fish_and_cat/val/'\n",
        "test_path = './datasets/fish_and_cat/test/'"
      ],
      "execution_count": 8,
      "outputs": []
    },
    {
      "cell_type": "markdown",
      "metadata": {
        "id": "rDImj7JLk0L_"
      },
      "source": [
        "Create datasets with ImageFolder"
      ]
    },
    {
      "cell_type": "code",
      "metadata": {
        "id": "x07C4VcAk0MD"
      },
      "source": [
        "img_transforms = transforms.Compose([\n",
        "    transforms.Resize((INPUT_SIZE, INPUT_SIZE)),\n",
        "    transforms.ToTensor(),\n",
        "    transforms.Normalize(mean=[0.485, 0.456, 0.406], #pre-compute constants\n",
        "                         std=[0.229, 0.224, 0.225])\n",
        "])"
      ],
      "execution_count": 9,
      "outputs": []
    },
    {
      "cell_type": "code",
      "metadata": {
        "id": "p0S3h3w9k0MU"
      },
      "source": [
        "def check_image(path):\n",
        "    '''\n",
        "    Function will do a sanity check to make sure PIL can actually open the file.\n",
        "    Passed to the is_valid_file parameter in the ImageFolder.\n",
        "    '''\n",
        "    try:\n",
        "        im = Image.open(path)\n",
        "        return True\n",
        "    except:\n",
        "        return False"
      ],
      "execution_count": 10,
      "outputs": []
    },
    {
      "cell_type": "code",
      "metadata": {
        "id": "bkuALGjXk0Mh"
      },
      "source": [
        "train_data = torchvision.datasets.ImageFolder(root=train_path, transform=img_transforms, is_valid_file=check_image)\n",
        "val_data = torchvision.datasets.ImageFolder(root=val_path, transform=img_transforms, is_valid_file=check_image)\n",
        "test_data = torchvision.datasets.ImageFolder(root=test_path, transform=img_transforms, is_valid_file=check_image)"
      ],
      "execution_count": 11,
      "outputs": []
    },
    {
      "cell_type": "markdown",
      "metadata": {
        "id": "62nX_E8Vk0Mt"
      },
      "source": [
        "Create data loaders"
      ]
    },
    {
      "cell_type": "code",
      "metadata": {
        "id": "WOcB3LRhk0Mv"
      },
      "source": [
        "train_loader = torch.utils.data.DataLoader(train_data, batch_size=BATCH_SIZE)\n",
        "val_loader = torch.utils.data.DataLoader(val_data, batch_size=BATCH_SIZE)\n",
        "test_loader = torch.utils.data.DataLoader(test_data, batch_size=BATCH_SIZE)"
      ],
      "execution_count": 12,
      "outputs": []
    },
    {
      "cell_type": "markdown",
      "metadata": {
        "id": "CUWBOC8Qk0M8"
      },
      "source": [
        "**Create model**"
      ]
    },
    {
      "cell_type": "code",
      "metadata": {
        "id": "KpO0o39Ak0M-"
      },
      "source": [
        "class SimpleNet(nn.Module):\n",
        "    \n",
        "    def __init__(self):\n",
        "        super(SimpleNet, self).__init__()\n",
        "        self.fc1 = nn.Linear(INPUT_SIZE * INPUT_SIZE * 3, 84)\n",
        "        self.fc2 = nn.Linear(84, 50)\n",
        "        self.fc3 = nn.Linear(50, 2)\n",
        "        \n",
        "    def forward(self, x):\n",
        "        x = x.view(-1 , INPUT_SIZE * INPUT_SIZE * 3)\n",
        "        x = F.relu(self.fc1(x))\n",
        "        x = F.relu(self.fc2(x))\n",
        "        x = self.fc3(x) #Final Softmax will be in the loss function - categorical crossentropy\n",
        "        return x"
      ],
      "execution_count": 13,
      "outputs": []
    },
    {
      "cell_type": "code",
      "metadata": {
        "id": "TWeEQtvvk0NK"
      },
      "source": [
        "simplenet = SimpleNet()\n",
        "loss_fn = nn.CrossEntropyLoss()\n",
        "optimizer = optim.Adam(simplenet.parameters(), lr=0.001)"
      ],
      "execution_count": 14,
      "outputs": []
    },
    {
      "cell_type": "markdown",
      "metadata": {
        "id": "xvVx8-Gvk0NY"
      },
      "source": [
        "**Send model to GPU**"
      ]
    },
    {
      "cell_type": "code",
      "metadata": {
        "colab": {
          "base_uri": "https://localhost:8080/"
        },
        "id": "5LI3me8ak0Nb",
        "outputId": "720a85e1-2024-433e-bf28-04e02ecf55a9"
      },
      "source": [
        "print('Is cuda available? - ', torch.cuda.is_available())\n",
        "\n",
        "if torch.cuda.is_available():\n",
        "    device = torch.device('cuda')\n",
        "else:\n",
        "    device = torch.device('cpu')\n",
        "    \n",
        "simplenet.to(device);"
      ],
      "execution_count": 15,
      "outputs": [
        {
          "output_type": "stream",
          "text": [
            "Is cuda available? -  True\n"
          ],
          "name": "stdout"
        }
      ]
    },
    {
      "cell_type": "markdown",
      "metadata": {
        "id": "49kX5nZ1k0Ny"
      },
      "source": [
        "**Training**"
      ]
    },
    {
      "cell_type": "code",
      "metadata": {
        "id": "3KfcE1J9k0OF"
      },
      "source": [
        "def train(model, optimizer, loss_fn, train_loader, val_loader, epochs=None, device='cuda'):\n",
        "    '''\n",
        "    device option copy on cpu/gpu only batch, not model. Model was sent to cpu/gpu in the cell below!\n",
        "    '''\n",
        "    for epoch in range(epochs):\n",
        "        training_loss = 0\n",
        "        val_loss = 0\n",
        "        \n",
        "        model.train() #set model to the train mode\n",
        "        for batch in train_loader:\n",
        "            optimizer.zero_grad() #set gradients to zero for every new bath\n",
        "            inputs, targets = batch\n",
        "            inputs = inputs.to(device)\n",
        "            targets = targets.to(device)\n",
        "            output = model(inputs)\n",
        "            loss = loss_fn(output, targets)\n",
        "            loss.backward() # backward propagation\n",
        "            optimizer.step() # update weights\n",
        "            training_loss += loss.data.item() * inputs.size(0)\n",
        "        training_loss /= len(train_loader.dataset)\n",
        "            \n",
        "        model.eval()\n",
        "        num_correct = 0\n",
        "        num_examples = 0\n",
        "        for batch in val_loader:\n",
        "            inputs, targets = batch\n",
        "            inputs = inputs.to(device)\n",
        "            targets = targets.to(device)\n",
        "            output = model(inputs)\n",
        "            loss = loss_fn(output, targets)\n",
        "            val_loss += loss.data.item() * inputs.size(0)\n",
        "            correct = torch.eq(torch.max(F.softmax(output, dim=1), dim=1)[1], targets)\n",
        "            num_correct += torch.sum(correct).item()\n",
        "            num_examples += correct.shape[0]\n",
        "        val_loss /= len(val_loader.dataset)\n",
        "        \n",
        "        print('Epoch: {}, Training Loss: {:.2f}, Validation Loss: {:.2f}, accuracy = {:.2f}'.\\\n",
        "              format(epoch, training_loss, val_loss, num_correct / num_examples)) "
      ],
      "execution_count": 16,
      "outputs": []
    },
    {
      "cell_type": "code",
      "metadata": {
        "colab": {
          "base_uri": "https://localhost:8080/"
        },
        "id": "Xx8SvMLMk0OO",
        "outputId": "ca8ecb3d-ec8c-4f3a-d780-81248900fe6d"
      },
      "source": [
        "%%time\n",
        "train(simplenet, optimizer, nn.CrossEntropyLoss(), train_loader,val_loader, epochs=EPOCHS, device=device)"
      ],
      "execution_count": 17,
      "outputs": [
        {
          "output_type": "stream",
          "text": [
            "Epoch: 0, Training Loss: 4.45, Validation Loss: 2.70, accuracy = 0.47\n",
            "Epoch: 1, Training Loss: 2.27, Validation Loss: 6.15, accuracy = 0.27\n",
            "Epoch: 2, Training Loss: 3.13, Validation Loss: 2.17, accuracy = 0.50\n",
            "Epoch: 3, Training Loss: 1.41, Validation Loss: 0.81, accuracy = 0.58\n",
            "Epoch: 4, Training Loss: 0.66, Validation Loss: 0.66, accuracy = 0.71\n",
            "Epoch: 5, Training Loss: 0.45, Validation Loss: 0.62, accuracy = 0.73\n",
            "Epoch: 6, Training Loss: 0.38, Validation Loss: 0.61, accuracy = 0.72\n",
            "Epoch: 7, Training Loss: 0.34, Validation Loss: 0.63, accuracy = 0.72\n",
            "Epoch: 8, Training Loss: 0.31, Validation Loss: 0.63, accuracy = 0.74\n",
            "Epoch: 9, Training Loss: 0.29, Validation Loss: 0.66, accuracy = 0.73\n",
            "CPU times: user 38.5 s, sys: 472 ms, total: 38.9 s\n",
            "Wall time: 39 s\n"
          ],
          "name": "stdout"
        }
      ]
    },
    {
      "cell_type": "markdown",
      "metadata": {
        "id": "kBajL_LCk0OX"
      },
      "source": [
        "**Making predictions**"
      ]
    },
    {
      "cell_type": "code",
      "metadata": {
        "id": "m87tt1tLyXHT"
      },
      "source": [
        "def url_to_image(url, save_path=None):\n",
        "    '''\n",
        "    Download the image by url-link, convert it to a NumPy array. Encode it into OpenCV format.\n",
        "    input:\n",
        "        url - direct url link to image \n",
        "    output:\n",
        "        OpenCV image.\n",
        "    '''\n",
        "    resp = urllib.request.urlopen(url)\n",
        "    image = np.asarray(bytearray(resp.read()), dtype=\"uint8\")\n",
        "\n",
        "    image = cv2.imdecode(image, cv2.IMREAD_COLOR)\n",
        "    if save_path is not None:\n",
        "        cv2.imwrite(save_path, image)\n",
        "    else:\n",
        "        return image"
      ],
      "execution_count": 18,
      "outputs": []
    },
    {
      "cell_type": "code",
      "metadata": {
        "colab": {
          "base_uri": "https://localhost:8080/",
          "height": 269
        },
        "id": "EEtmrq8Lyycd",
        "outputId": "0a4f5418-a549-4b63-d6df-11f0be283f1f"
      },
      "source": [
        "img_url = 'https://images.unsplash.com/photo-1524704654690-b56c05c78a00?ixlib=rb-1.2.1&ixid=eyJhcHBfaWQiOjEyMDd9&w=1000&q=80'\n",
        "img_matrix = url_to_image(img_url)[:,:,::-1]\n",
        "plt.imshow(img_matrix);"
      ],
      "execution_count": 26,
      "outputs": [
        {
          "output_type": "display_data",
          "data": {
            "image/png": "[encoded data removed]",
            "text/plain": [
              "<Figure size 432x288 with 1 Axes>"
            ]
          },
          "metadata": {
            "tags": [],
            "needs_background": "light"
          }
        }
      ]
    },
    {
      "cell_type": "code",
      "metadata": {
        "colab": {
          "base_uri": "https://localhost:8080/"
        },
        "id": "S6KJica8zZtG",
        "outputId": "7c012015-420b-425a-9fed-7f69c88ee45e"
      },
      "source": [
        "labels = ['cat', 'fish']\n",
        "raw_img = Image.fromarray(np.uint8(img_matrix)).convert('RGB') # numpy array -> PIL image\n",
        "img = img_transforms(raw_img).to(device)\n",
        "\n",
        "preds = F.softmax(simplenet(img), dim=1)\n",
        "print(preds)\n",
        "print(labels[preds.argmax().item()])\n"
      ],
      "execution_count": 38,
      "outputs": [
        {
          "output_type": "stream",
          "text": [
            "tensor([[0.3423, 0.6577]], device='cuda:0', grad_fn=<SoftmaxBackward>)\n",
            "fish\n"
          ],
          "name": "stdout"
        }
      ]
    },
    {
      "cell_type": "markdown",
      "metadata": {
        "id": "gWCyBzys0ELr"
      },
      "source": [
        "**Saving models**"
      ]
    },
    {
      "cell_type": "code",
      "metadata": {
        "id": "fWI7PG5s0iQD"
      },
      "source": [
        "# Entire model\n",
        "torch.save(simplenet, os.path.join(PROJECT_FOLDER,\n",
        "                                   \"./ch2/simplenet\")) \n",
        "simplenet = torch.load(os.path.join(PROJECT_FOLDER,\n",
        "                                    \"./ch2/simplenet\"))"
      ],
      "execution_count": 42,
      "outputs": []
    },
    {
      "cell_type": "code",
      "metadata": {
        "colab": {
          "base_uri": "https://localhost:8080/"
        },
        "id": "yzDwYDck1K1u",
        "outputId": "0ac7cc6c-a7ca-45be-993a-37e746a4cbdd"
      },
      "source": [
        "# Weights only\n",
        "torch.save(simplenet.state_dict(), os.path.join(PROJECT_FOLDER, \n",
        "                                                \"./ch2/simplenet_weights\"))    \n",
        "simplenet = SimpleNet()\n",
        "simplenet_state_dict = torch.load(os.path.join(PROJECT_FOLDER, \n",
        "                                               \"./ch2/simplenet_weights\"))\n",
        "simplenet.load_state_dict(simplenet_state_dict)"
      ],
      "execution_count": 43,
      "outputs": [
        {
          "output_type": "execute_result",
          "data": {
            "text/plain": [
              "<All keys matched successfully>"
            ]
          },
          "metadata": {
            "tags": []
          },
          "execution_count": 43
        }
      ]
    },
    {
      "cell_type": "code",
      "metadata": {
        "id": "PIuMwb2f1ZnD"
      },
      "source": [
        ""
      ],
      "execution_count": null,
      "outputs": []
    }
  ]
}