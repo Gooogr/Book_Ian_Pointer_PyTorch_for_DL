{
 "cells": [
  {
   "cell_type": "code",
   "execution_count": 9,
   "metadata": {},
   "outputs": [
    {
     "ename": "ModuleNotFoundError",
     "evalue": "No module named 'urllib3'",
     "output_type": "error",
     "traceback": [
      "\u001b[0;31m---------------------------------------------------------------------------\u001b[0m",
      "\u001b[0;31mModuleNotFoundError\u001b[0m                       Traceback (most recent call last)",
      "\u001b[0;32m<ipython-input-9-c1c92e94dcc8>\u001b[0m in \u001b[0;36m<module>\u001b[0;34m()\u001b[0m\n\u001b[1;32m      1\u001b[0m \u001b[0;32mimport\u001b[0m \u001b[0mtorch\u001b[0m\u001b[0;34m\u001b[0m\u001b[0;34m\u001b[0m\u001b[0m\n\u001b[0;32m----> 2\u001b[0;31m \u001b[0;32mimport\u001b[0m \u001b[0murllib3\u001b[0m\u001b[0;34m\u001b[0m\u001b[0;34m\u001b[0m\u001b[0m\n\u001b[0m",
      "\u001b[0;31mModuleNotFoundError\u001b[0m: No module named 'urllib3'"
     ]
    }
   ],
   "source": [
    "import torch"
   ]
  },
  {
   "cell_type": "markdown",
   "metadata": {},
   "source": [
    "**Prepare dataset**"
   ]
  },
  {
   "cell_type": "code",
   "execution_count": 7,
   "metadata": {},
   "outputs": [
    {
     "name": "stdout",
     "output_type": "stream",
     "text": [
      "/home/grigoriy/anaconda3/envs/torch/bin/python\r\n"
     ]
    }
   ],
   "source": [
    "!which python"
   ]
  },
  {
   "cell_type": "code",
   "execution_count": 11,
   "metadata": {},
   "outputs": [
    {
     "name": "stdout",
     "output_type": "stream",
     "text": [
      "Traceback (most recent call last):\r\n",
      "  File \"./ch2/download.py\", line 42, in <module>\r\n",
      "    imagesDF = pd.read_csv(\"images.csv\")\r\n",
      "  File \"/home/grigoriy/anaconda3/envs/torch/lib/python3.6/site-packages/pandas/io/parsers.py\", line 686, in read_csv\r\n",
      "    return _read(filepath_or_buffer, kwds)\r\n",
      "  File \"/home/grigoriy/anaconda3/envs/torch/lib/python3.6/site-packages/pandas/io/parsers.py\", line 452, in _read\r\n",
      "    parser = TextFileReader(fp_or_buf, **kwds)\r\n",
      "  File \"/home/grigoriy/anaconda3/envs/torch/lib/python3.6/site-packages/pandas/io/parsers.py\", line 936, in __init__\r\n",
      "    self._make_engine(self.engine)\r\n",
      "  File \"/home/grigoriy/anaconda3/envs/torch/lib/python3.6/site-packages/pandas/io/parsers.py\", line 1168, in _make_engine\r\n",
      "    self._engine = CParserWrapper(self.f, **self.options)\r\n",
      "  File \"/home/grigoriy/anaconda3/envs/torch/lib/python3.6/site-packages/pandas/io/parsers.py\", line 1998, in __init__\r\n",
      "    self._reader = parsers.TextReader(src, **kwds)\r\n",
      "  File \"pandas/_libs/parsers.pyx\", line 382, in pandas._libs.parsers.TextReader.__cinit__\r\n",
      "  File \"pandas/_libs/parsers.pyx\", line 674, in pandas._libs.parsers.TextReader._setup_parser_source\r\n",
      "FileNotFoundError: [Errno 2] No such file or directory: 'images.csv'\r\n"
     ]
    }
   ],
   "source": [
    "% cd ch2\n",
    "!python ./ch2/download.py"
   ]
  },
  {
   "cell_type": "code",
   "execution_count": null,
   "metadata": {},
   "outputs": [],
   "source": [
    "cd ../"
   ]
  },
  {
   "cell_type": "code",
   "execution_count": null,
   "metadata": {},
   "outputs": [],
   "source": [
    "DIR_PATH = './ch2_data/'"
   ]
  }
 ],
 "metadata": {
  "kernelspec": {
   "display_name": "Python 3",
   "language": "python",
   "name": "python3"
  },
  "language_info": {
   "codemirror_mode": {
    "name": "ipython",
    "version": 3
   },
   "file_extension": ".py",
   "mimetype": "text/x-python",
   "name": "python",
   "nbconvert_exporter": "python",
   "pygments_lexer": "ipython3",
   "version": "3.6.11"
  }
 },
 "nbformat": 4,
 "nbformat_minor": 4
}
