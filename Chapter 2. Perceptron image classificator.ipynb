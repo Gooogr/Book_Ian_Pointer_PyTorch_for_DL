{
  "nbformat": 4,
  "nbformat_minor": 0,
  "metadata": {
    "kernelspec": {
      "display_name": "Python 3",
      "language": "python",
      "name": "python3"
    },
    "language_info": {
      "codemirror_mode": {
        "name": "ipython",
        "version": 3
      },
      "file_extension": ".py",
      "mimetype": "text/x-python",
      "name": "python",
      "nbconvert_exporter": "python",
      "pygments_lexer": "ipython3",
      "version": "3.6.11"
    },
    "colab": {
      "name": "Chapter 2. Perceptron image classificator.ipynb",
      "provenance": [],
      "collapsed_sections": [],
      "include_colab_link": true
    },
    "accelerator": "GPU"
  },
  "cells": [
    {
      "cell_type": "markdown",
      "metadata": {
        "id": "view-in-github",
        "colab_type": "text"
      },
      "source": [
        "<a href=\"https://colab.research.google.com/github/Gooogr/Book_Ian_Pointer_PyTorch_for_DL/blob/master/Chapter%202.%20Perceptron%20image%20classificator.ipynb\" target=\"_parent\"><img src=\"https://colab.research.google.com/assets/colab-badge.svg\" alt=\"Open In Colab\"/></a>"
      ]
    },
    {
      "cell_type": "code",
      "metadata": {
        "id": "wmzcWSLpk0KA",
        "colab_type": "code",
        "colab": {}
      },
      "source": [
        "import os\n",
        "\n",
        "import torch\n",
        "import torch.nn as nn\n",
        "import torch.nn.functional as F\n",
        "import torch.optim as optim\n",
        "import torchvision\n",
        "from torchvision import transforms\n",
        "\n",
        "from PIL import Image\n",
        "\n",
        "import numpy as np\n",
        "import cv2\n",
        "import urllib.request\n",
        "\n",
        "from google.colab.patches import cv2_imshow"
      ],
      "execution_count": 30,
      "outputs": []
    },
    {
      "cell_type": "code",
      "metadata": {
        "id": "AU_XTsb-lA0t",
        "colab_type": "code",
        "colab": {
          "base_uri": "https://localhost:8080/",
          "height": 364
        },
        "outputId": "4fb4ad5f-1c2e-4641-b053-6b9800a77356"
      },
      "source": [
        "! nvidia-smi"
      ],
      "execution_count": 2,
      "outputs": [
        {
          "output_type": "stream",
          "text": [
            "Tue Sep  1 16:59:20 2020       \n",
            "+-----------------------------------------------------------------------------+\n",
            "| NVIDIA-SMI 450.66       Driver Version: 418.67       CUDA Version: 10.1     |\n",
            "|-------------------------------+----------------------+----------------------+\n",
            "| GPU  Name        Persistence-M| Bus-Id        Disp.A | Volatile Uncorr. ECC |\n",
            "| Fan  Temp  Perf  Pwr:Usage/Cap|         Memory-Usage | GPU-Util  Compute M. |\n",
            "|                               |                      |               MIG M. |\n",
            "|===============================+======================+======================|\n",
            "|   0  Tesla P4            Off  | 00000000:00:04.0 Off |                    0 |\n",
            "| N/A   40C    P8     7W /  75W |      0MiB /  7611MiB |      0%      Default |\n",
            "|                               |                      |                 ERR! |\n",
            "+-------------------------------+----------------------+----------------------+\n",
            "                                                                               \n",
            "+-----------------------------------------------------------------------------+\n",
            "| Processes:                                                                  |\n",
            "|  GPU   GI   CI        PID   Type   Process name                  GPU Memory |\n",
            "|        ID   ID                                                   Usage      |\n",
            "|=============================================================================|\n",
            "|  No running processes found                                                 |\n",
            "+-----------------------------------------------------------------------------+\n"
          ],
          "name": "stdout"
        }
      ]
    },
    {
      "cell_type": "code",
      "metadata": {
        "id": "LYkhv6NNk0Kb",
        "colab_type": "code",
        "colab": {}
      },
      "source": [
        "BATCH_SIZE = 32\n",
        "INPUT_SIZE = 64"
      ],
      "execution_count": 3,
      "outputs": []
    },
    {
      "cell_type": "markdown",
      "metadata": {
        "id": "2FpU4YC7k0Kx",
        "colab_type": "text"
      },
      "source": [
        "**Prepare dataset**"
      ]
    },
    {
      "cell_type": "code",
      "metadata": {
        "id": "N4ttz2hjmHB9",
        "colab_type": "code",
        "colab": {
          "base_uri": "https://localhost:8080/",
          "height": 34
        },
        "outputId": "a88c672f-2423-4ccc-d5bb-e60046020e78"
      },
      "source": [
        "! mkdir ch2\n",
        "% cd ch2\n",
        "! wget --quiet https://raw.githubusercontent.com/falloutdurham/beginners-pytorch-deep-learning/master/chapter2/download.py\n",
        "! wget --quiet https://raw.githubusercontent.com/falloutdurham/beginners-pytorch-deep-learning/master/chapter2/images.csv"
      ],
      "execution_count": 4,
      "outputs": [
        {
          "output_type": "stream",
          "text": [
            "/content/ch2\n"
          ],
          "name": "stdout"
        }
      ]
    },
    {
      "cell_type": "code",
      "metadata": {
        "id": "75Ns1Nalk0K0",
        "colab_type": "code",
        "colab": {}
      },
      "source": [
        "%%capture\n",
        "!python download.py\n",
        "% cd ../\n",
        "\n",
        "# Takes ~ 20 min in google collab"
      ],
      "execution_count": 5,
      "outputs": []
    },
    {
      "cell_type": "markdown",
      "metadata": {
        "id": "-zYps9tEk0LH",
        "colab_type": "text"
      },
      "source": [
        "Remove 0 bytes images"
      ]
    },
    {
      "cell_type": "code",
      "metadata": {
        "id": "KT_5U-oKk0LJ",
        "colab_type": "code",
        "colab": {
          "base_uri": "https://localhost:8080/",
          "height": 104
        },
        "outputId": "68155837-c06a-4f04-8286-812b0bc9bb7f"
      },
      "source": [
        "files = [os.path.join(r,file) for r,d,f in os.walk(\"./ch2\") for file in f]\n",
        "files[:5]"
      ],
      "execution_count": 6,
      "outputs": [
        {
          "output_type": "execute_result",
          "data": {
            "text/plain": [
              "['./ch2/download.py',\n",
              " './ch2/images.csv',\n",
              " './ch2/val/fish/DanCarleCoho.thumb.jpg',\n",
              " './ch2/val/fish/jimmy.jpg',\n",
              " './ch2/val/fish/AhappygroupwithsomeniceCohoSalmonsm.jpg']"
            ]
          },
          "metadata": {
            "tags": []
          },
          "execution_count": 6
        }
      ]
    },
    {
      "cell_type": "code",
      "metadata": {
        "id": "HGlqp2Jhk0Ld",
        "colab_type": "code",
        "colab": {}
      },
      "source": [
        "for file in files:\n",
        "    if os.path.getsize(file) == 0:\n",
        "        os.remove(file)"
      ],
      "execution_count": 7,
      "outputs": []
    },
    {
      "cell_type": "markdown",
      "metadata": {
        "id": "bWzHekfSk0Ls",
        "colab_type": "text"
      },
      "source": [
        "Setting up directories pathes"
      ]
    },
    {
      "cell_type": "code",
      "metadata": {
        "id": "hsDKWy7Ck0Lu",
        "colab_type": "code",
        "colab": {}
      },
      "source": [
        "train_path = './ch2/train/'\n",
        "val_path = './ch2/val/'\n",
        "test_path = './ch2/test/'"
      ],
      "execution_count": 8,
      "outputs": []
    },
    {
      "cell_type": "markdown",
      "metadata": {
        "id": "rDImj7JLk0L_",
        "colab_type": "text"
      },
      "source": [
        "Create datasets with ImageFolder"
      ]
    },
    {
      "cell_type": "code",
      "metadata": {
        "id": "x07C4VcAk0MD",
        "colab_type": "code",
        "colab": {}
      },
      "source": [
        "img_transforms = transforms.Compose([\n",
        "    transforms.Resize((INPUT_SIZE, INPUT_SIZE)),\n",
        "    transforms.ToTensor(),\n",
        "    transforms.Normalize(mean=[0.485, 0.456, 0.406], #pre-compute constants\n",
        "                         std=[0.229, 0.224, 0.225])\n",
        "])"
      ],
      "execution_count": 9,
      "outputs": []
    },
    {
      "cell_type": "code",
      "metadata": {
        "id": "p0S3h3w9k0MU",
        "colab_type": "code",
        "colab": {}
      },
      "source": [
        "def check_image(path):\n",
        "    '''\n",
        "    Function will do a sanity check to make sure PIL can actually open the file.\n",
        "    Passed to the is_valid_file parameter in the ImageFolder.\n",
        "    '''\n",
        "    try:\n",
        "        im = Image.open(path)\n",
        "        return True\n",
        "    except:\n",
        "        return False"
      ],
      "execution_count": 10,
      "outputs": []
    },
    {
      "cell_type": "code",
      "metadata": {
        "id": "bkuALGjXk0Mh",
        "colab_type": "code",
        "colab": {}
      },
      "source": [
        "train_data = torchvision.datasets.ImageFolder(root=train_path, transform=img_transforms, is_valid_file=check_image)\n",
        "val_data = torchvision.datasets.ImageFolder(root=val_path, transform=img_transforms, is_valid_file=check_image)\n",
        "test_data = torchvision.datasets.ImageFolder(root=test_path, transform=img_transforms, is_valid_file=check_image)"
      ],
      "execution_count": 11,
      "outputs": []
    },
    {
      "cell_type": "markdown",
      "metadata": {
        "id": "62nX_E8Vk0Mt",
        "colab_type": "text"
      },
      "source": [
        "Create data loaders"
      ]
    },
    {
      "cell_type": "code",
      "metadata": {
        "id": "WOcB3LRhk0Mv",
        "colab_type": "code",
        "colab": {}
      },
      "source": [
        "train_loader = torch.utils.data.DataLoader(train_data, batch_size=BATCH_SIZE)\n",
        "val_loader = torch.utils.data.DataLoader(val_data, batch_size=BATCH_SIZE)\n",
        "test_loader = torch.utils.data.DataLoader(test_data, batch_size=BATCH_SIZE)"
      ],
      "execution_count": 12,
      "outputs": []
    },
    {
      "cell_type": "markdown",
      "metadata": {
        "id": "CUWBOC8Qk0M8",
        "colab_type": "text"
      },
      "source": [
        "**Create model**"
      ]
    },
    {
      "cell_type": "code",
      "metadata": {
        "id": "KpO0o39Ak0M-",
        "colab_type": "code",
        "colab": {}
      },
      "source": [
        "class SimpleNet(nn.Module):\n",
        "    \n",
        "    def __init__(self):\n",
        "        super(SimpleNet, self).__init__()\n",
        "        self.fc1 = nn.Linear(INPUT_SIZE * INPUT_SIZE * 3, 84)\n",
        "        self.fc2 = nn.Linear(84, 50)\n",
        "        self.fc3 = nn.Linear(50, 2)\n",
        "        \n",
        "    def forward(self, x):\n",
        "        x = x.view(-1 , INPUT_SIZE * INPUT_SIZE * 3)\n",
        "        x = F.relu(self.fc1(x))\n",
        "        x = F.relu(self.fc2(x))\n",
        "        x = self.fc3(x) #Final Softmax will be in the loss function - categorical crossentropy\n",
        "        return x"
      ],
      "execution_count": 13,
      "outputs": []
    },
    {
      "cell_type": "code",
      "metadata": {
        "id": "TWeEQtvvk0NK",
        "colab_type": "code",
        "colab": {}
      },
      "source": [
        "simplenet = SimpleNet()\n",
        "loss_fn = nn.CrossEntropyLoss()\n",
        "optimizer = optim.Adam(simplenet.parameters(), lr=0.001)"
      ],
      "execution_count": 14,
      "outputs": []
    },
    {
      "cell_type": "markdown",
      "metadata": {
        "id": "xvVx8-Gvk0NY",
        "colab_type": "text"
      },
      "source": [
        "**Send model to GPU**"
      ]
    },
    {
      "cell_type": "code",
      "metadata": {
        "id": "5LI3me8ak0Nb",
        "colab_type": "code",
        "colab": {
          "base_uri": "https://localhost:8080/",
          "height": 121
        },
        "outputId": "672c8002-488b-4544-ddd3-cb8a203b800b"
      },
      "source": [
        "print('Is cuda available? - ', torch.cuda.is_available())\n",
        "\n",
        "if torch.cuda.is_available():\n",
        "    device = torch.device('cuda')\n",
        "else:\n",
        "    device = torch.device('cpu')\n",
        "    \n",
        "simplenet.to(device)"
      ],
      "execution_count": 16,
      "outputs": [
        {
          "output_type": "stream",
          "text": [
            "Is cuda available? -  True\n"
          ],
          "name": "stdout"
        },
        {
          "output_type": "execute_result",
          "data": {
            "text/plain": [
              "SimpleNet(\n",
              "  (fc1): Linear(in_features=12288, out_features=84, bias=True)\n",
              "  (fc2): Linear(in_features=84, out_features=50, bias=True)\n",
              "  (fc3): Linear(in_features=50, out_features=2, bias=True)\n",
              ")"
            ]
          },
          "metadata": {
            "tags": []
          },
          "execution_count": 16
        }
      ]
    },
    {
      "cell_type": "code",
      "metadata": {
        "id": "5LnTEi4Dk0Nm",
        "colab_type": "code",
        "colab": {
          "base_uri": "https://localhost:8080/",
          "height": 34
        },
        "outputId": "3948f01f-c819-44f8-ba3e-117ebbab96d7"
      },
      "source": [
        "device"
      ],
      "execution_count": 17,
      "outputs": [
        {
          "output_type": "execute_result",
          "data": {
            "text/plain": [
              "device(type='cuda')"
            ]
          },
          "metadata": {
            "tags": []
          },
          "execution_count": 17
        }
      ]
    },
    {
      "cell_type": "markdown",
      "metadata": {
        "id": "49kX5nZ1k0Ny",
        "colab_type": "text"
      },
      "source": [
        "**Training**"
      ]
    },
    {
      "cell_type": "code",
      "metadata": {
        "id": "3KfcE1J9k0OF",
        "colab_type": "code",
        "colab": {}
      },
      "source": [
        "def train(model, optimizer, loss_fn, train_loader, val_loader, epochs=None, device='cuda'):\n",
        "    '''\n",
        "    device option copy on cpu/gpu only batch, not model. Model was sent to cpu/gpu in the cell below!\n",
        "    '''\n",
        "    for epoch in range(epochs):\n",
        "        training_loss = 0\n",
        "        val_loss = 0\n",
        "        \n",
        "        model.train() #set model to the train mode\n",
        "        for batch in train_loader:\n",
        "            optimizer.zero_grad() #set gradients to zero for every new bath\n",
        "            inputs, targets = batch\n",
        "            inputs = inputs.to(device)\n",
        "            targets = targets.to(device)\n",
        "            output = model(inputs)\n",
        "            loss = loss_fn(output, targets)\n",
        "            loss.backward() # backward propagation\n",
        "            optimizer.step() # update weights\n",
        "            training_loss += loss.data.item() * inputs.size(0)\n",
        "        training_loss /= len(train_loader.dataset)\n",
        "            \n",
        "        model.eval()\n",
        "        num_correct = 0\n",
        "        num_examples = 0\n",
        "        for batch in val_loader:\n",
        "            inputs, targets = batch\n",
        "            inputs = inputs.to(device)\n",
        "            targets = targets.to(device)\n",
        "            output = model(inputs)\n",
        "            loss = loss_fn(output, targets)\n",
        "            val_loss += loss.data.item() * inputs.size(0)\n",
        "            correct = torch.eq(torch.max(F.softmax(output, dim=1), dim=1)[1], targets)\n",
        "            num_correct += torch.sum(correct).item()\n",
        "            num_examples += correct.shape[0]\n",
        "        val_loss /= len(val_loader.dataset)\n",
        "        \n",
        "        print('Epoch: {}, Training Loss: {:.2f}, Validation Loss: {:.2f}, accuracy = {:.2f}'.\\\n",
        "              format(epoch, training_loss, val_loss, num_correct / num_examples))\n",
        "\n",
        "          \n",
        "    "
      ],
      "execution_count": 24,
      "outputs": []
    },
    {
      "cell_type": "code",
      "metadata": {
        "id": "Xx8SvMLMk0OO",
        "colab_type": "code",
        "colab": {
          "base_uri": "https://localhost:8080/",
          "height": 104
        },
        "outputId": "18abdd55-ed51-44fc-d3d8-c9fafee5e2f3"
      },
      "source": [
        "train(simplenet, optimizer, nn.CrossEntropyLoss(), train_loader,val_loader, epochs=5, device=device)"
      ],
      "execution_count": 25,
      "outputs": [
        {
          "output_type": "stream",
          "text": [
            "Epoch: 0, Training Loss: 1.96, Validation Loss: 1.34, accuracy = 0.50\n",
            "Epoch: 1, Training Loss: 0.96, Validation Loss: 0.83, accuracy = 0.66\n",
            "Epoch: 2, Training Loss: 0.57, Validation Loss: 0.64, accuracy = 0.68\n",
            "Epoch: 3, Training Loss: 0.41, Validation Loss: 0.66, accuracy = 0.70\n",
            "Epoch: 4, Training Loss: 0.35, Validation Loss: 0.66, accuracy = 0.72\n"
          ],
          "name": "stdout"
        }
      ]
    },
    {
      "cell_type": "markdown",
      "metadata": {
        "id": "kBajL_LCk0OX",
        "colab_type": "text"
      },
      "source": [
        "**Making predictions**"
      ]
    },
    {
      "cell_type": "code",
      "metadata": {
        "id": "m87tt1tLyXHT",
        "colab_type": "code",
        "colab": {}
      },
      "source": [
        "def url_to_image(url, save_path=None):\n",
        "    '''\n",
        "    Download the image by url-link, convert it to a NumPy array. Encode it into OpenCV format.\n",
        "    input:\n",
        "        url - direct url link to image \n",
        "    output:\n",
        "        OpenCV image.\n",
        "    '''\n",
        "    resp = urllib.request.urlopen(url)\n",
        "    image = np.asarray(bytearray(resp.read()), dtype=\"uint8\")\n",
        "\n",
        "    image = cv2.imdecode(image, cv2.IMREAD_COLOR)\n",
        "    if save_path is not None:\n",
        "        cv2.imwrite(save_path, image)\n",
        "    else:\n",
        "        return image"
      ],
      "execution_count": 26,
      "outputs": []
    },
    {
      "cell_type": "code",
      "metadata": {
        "id": "EEtmrq8Lyycd",
        "colab_type": "code",
        "colab": {}
      },
      "source": [
        "img_url = 'https://images.unsplash.com/photo-1524704654690-b56c05c78a00?ixlib=rb-1.2.1&ixid=eyJhcHBfaWQiOjEyMDd9&w=1000&q=80'\n",
        "url_to_image(img_url, 'sample_img.jpg')"
      ],
      "execution_count": 40,
      "outputs": []
    },
    {
      "cell_type": "code",
      "metadata": {
        "id": "Ia9Qr7IgzRT3",
        "colab_type": "code",
        "colab": {
          "base_uri": "https://localhost:8080/",
          "height": 351
        },
        "outputId": "ba7d9213-d204-4ba9-fe1e-9070743236b0"
      },
      "source": [
        "img = cv2.imread('sample_img.jpg')\n",
        "cv2_imshow(cv2.resize(img, (0, 0), fx=0.5, fy=0.5))"
      ],
      "execution_count": 42,
      "outputs": [
        {
          "output_type": "display_data",
          "data": {
            "image/png": "[encoded data removed]",
            "text/plain": [
              "<PIL.Image.Image image mode=RGB size=500x334 at 0x7FD9916E0940>"
            ]
          },
          "metadata": {
            "tags": []
          }
        }
      ]
    },
    {
      "cell_type": "code",
      "metadata": {
        "id": "S6KJica8zZtG",
        "colab_type": "code",
        "colab": {
          "base_uri": "https://localhost:8080/",
          "height": 34
        },
        "outputId": "7178272f-4b82-42e6-fb36-9f17f06a40ef"
      },
      "source": [
        "labels = ['cat', 'fish']\n",
        "img = Image.open('sample_img.jpg')\n",
        "img = img_transforms(img).to(device)\n",
        "\n",
        "preds = F.softmax(simplenet(img), dim=1)\n",
        "print(labels[preds.argmax().item()])\n"
      ],
      "execution_count": 57,
      "outputs": [
        {
          "output_type": "stream",
          "text": [
            "fish\n"
          ],
          "name": "stdout"
        }
      ]
    },
    {
      "cell_type": "markdown",
      "metadata": {
        "id": "gWCyBzys0ELr",
        "colab_type": "text"
      },
      "source": [
        "**Saving models**"
      ]
    },
    {
      "cell_type": "code",
      "metadata": {
        "id": "fWI7PG5s0iQD",
        "colab_type": "code",
        "colab": {}
      },
      "source": [
        "# Entire model\n",
        "torch.save(simplenet, \"simplenet\") \n",
        "simplenet = torch.load(\"simplenet\")"
      ],
      "execution_count": 58,
      "outputs": []
    },
    {
      "cell_type": "code",
      "metadata": {
        "id": "yzDwYDck1K1u",
        "colab_type": "code",
        "colab": {
          "base_uri": "https://localhost:8080/",
          "height": 34
        },
        "outputId": "b2e66f64-522b-43b8-addb-532149908e6a"
      },
      "source": [
        "# Weights only\n",
        "torch.save(simplenet.state_dict(), \"simplenet\")    \n",
        "simplenet = SimpleNet()\n",
        "simplenet_state_dict = torch.load(\"simplenet\")\n",
        "simplenet.load_state_dict(simplenet_state_dict)"
      ],
      "execution_count": 59,
      "outputs": [
        {
          "output_type": "execute_result",
          "data": {
            "text/plain": [
              "<All keys matched successfully>"
            ]
          },
          "metadata": {
            "tags": []
          },
          "execution_count": 59
        }
      ]
    },
    {
      "cell_type": "code",
      "metadata": {
        "id": "PIuMwb2f1ZnD",
        "colab_type": "code",
        "colab": {}
      },
      "source": [
        ""
      ],
      "execution_count": null,
      "outputs": []
    }
  ]
}