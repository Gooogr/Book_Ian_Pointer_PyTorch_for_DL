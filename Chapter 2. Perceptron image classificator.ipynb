{
 "cells": [
  {
   "cell_type": "code",
   "execution_count": 50,
   "metadata": {
    "colab": {},
    "colab_type": "code",
    "id": "wmzcWSLpk0KA"
   },
   "outputs": [],
   "source": [
    "import os\n",
    "\n",
    "import torch\n",
    "import torch.nn as nn\n",
    "import torch.nn.functional as F\n",
    "import torch.optim as optim\n",
    "import torchvision\n",
    "from torchvision import transforms\n",
    "\n",
    "from PIL import Image\n",
    "import matplotlib.pyplot as plt\n",
    "\n",
    "import numpy as np\n",
    "import cv2\n",
    "import urllib.request"
   ]
  },
  {
   "cell_type": "code",
   "execution_count": 4,
   "metadata": {
    "colab": {
     "base_uri": "https://localhost:8080/",
     "height": 364
    },
    "colab_type": "code",
    "id": "AU_XTsb-lA0t",
    "outputId": "4fb4ad5f-1c2e-4641-b053-6b9800a77356"
   },
   "outputs": [
    {
     "name": "stdout",
     "output_type": "stream",
     "text": [
      "/bin/sh: 1: nvidia-smi: not found\r\n"
     ]
    }
   ],
   "source": [
    "! nvidia-smi"
   ]
  },
  {
   "cell_type": "code",
   "execution_count": 5,
   "metadata": {
    "colab": {},
    "colab_type": "code",
    "id": "LYkhv6NNk0Kb"
   },
   "outputs": [],
   "source": [
    "BATCH_SIZE = 32\n",
    "INPUT_SIZE = 64"
   ]
  },
  {
   "cell_type": "markdown",
   "metadata": {
    "colab_type": "text",
    "id": "2FpU4YC7k0Kx"
   },
   "source": [
    "**Prepare dataset**"
   ]
  },
  {
   "cell_type": "code",
   "execution_count": 4,
   "metadata": {
    "colab": {
     "base_uri": "https://localhost:8080/",
     "height": 34
    },
    "colab_type": "code",
    "id": "N4ttz2hjmHB9",
    "outputId": "a88c672f-2423-4ccc-d5bb-e60046020e78"
   },
   "outputs": [
    {
     "name": "stdout",
     "output_type": "stream",
     "text": [
      "/content/ch2\n"
     ]
    }
   ],
   "source": [
    "! mkdir ch2\n",
    "% cd ch2\n",
    "! wget --quiet https://raw.githubusercontent.com/falloutdurham/beginners-pytorch-deep-learning/master/chapter2/download.py\n",
    "! wget --quiet https://raw.githubusercontent.com/falloutdurham/beginners-pytorch-deep-learning/master/chapter2/images.csv"
   ]
  },
  {
   "cell_type": "code",
   "execution_count": 5,
   "metadata": {
    "colab": {},
    "colab_type": "code",
    "id": "75Ns1Nalk0K0"
   },
   "outputs": [],
   "source": [
    "%%capture\n",
    "!python download.py\n",
    "% cd ../\n",
    "\n",
    "# Takes ~ 20 min in google collab"
   ]
  },
  {
   "cell_type": "markdown",
   "metadata": {
    "colab_type": "text",
    "id": "-zYps9tEk0LH"
   },
   "source": [
    "Remove 0 bytes images"
   ]
  },
  {
   "cell_type": "code",
   "execution_count": 6,
   "metadata": {
    "colab": {
     "base_uri": "https://localhost:8080/",
     "height": 104
    },
    "colab_type": "code",
    "id": "KT_5U-oKk0LJ",
    "outputId": "68155837-c06a-4f04-8286-812b0bc9bb7f"
   },
   "outputs": [
    {
     "data": {
      "text/plain": [
       "['./ch2/images.csv',\n",
       " './ch2/download.py',\n",
       " './ch2/train/cat/1010884970_1aa4af4701.jpg',\n",
       " './ch2/train/cat/54461669_2791e8f95e.jpg',\n",
       " './ch2/train/cat/1484751958_b16fedd4c2.jpg']"
      ]
     },
     "execution_count": 6,
     "metadata": {},
     "output_type": "execute_result"
    }
   ],
   "source": [
    "files = [os.path.join(r,file) for r,d,f in os.walk(\"./ch2\") for file in f]\n",
    "files[:5]"
   ]
  },
  {
   "cell_type": "code",
   "execution_count": 7,
   "metadata": {
    "colab": {},
    "colab_type": "code",
    "id": "HGlqp2Jhk0Ld"
   },
   "outputs": [],
   "source": [
    "for file in files:\n",
    "    if os.path.getsize(file) == 0:\n",
    "        os.remove(file)"
   ]
  },
  {
   "cell_type": "markdown",
   "metadata": {
    "colab_type": "text",
    "id": "bWzHekfSk0Ls"
   },
   "source": [
    "Setting up directories pathes"
   ]
  },
  {
   "cell_type": "code",
   "execution_count": 51,
   "metadata": {
    "colab": {},
    "colab_type": "code",
    "id": "hsDKWy7Ck0Lu"
   },
   "outputs": [],
   "source": [
    "train_path = './ch2/train/'\n",
    "val_path = './ch2/val/'\n",
    "test_path = './ch2/test/'"
   ]
  },
  {
   "cell_type": "markdown",
   "metadata": {
    "colab_type": "text",
    "id": "rDImj7JLk0L_"
   },
   "source": [
    "Create datasets with ImageFolder"
   ]
  },
  {
   "cell_type": "code",
   "execution_count": 52,
   "metadata": {
    "colab": {},
    "colab_type": "code",
    "id": "x07C4VcAk0MD"
   },
   "outputs": [],
   "source": [
    "img_transforms = transforms.Compose([\n",
    "    transforms.Resize((INPUT_SIZE, INPUT_SIZE)),\n",
    "    transforms.ToTensor(),\n",
    "    transforms.Normalize(mean=[0.485, 0.456, 0.406], #pre-compute constants\n",
    "                         std=[0.229, 0.224, 0.225])\n",
    "])"
   ]
  },
  {
   "cell_type": "code",
   "execution_count": 53,
   "metadata": {
    "colab": {},
    "colab_type": "code",
    "id": "p0S3h3w9k0MU"
   },
   "outputs": [],
   "source": [
    "def check_image(path):\n",
    "    '''\n",
    "    Function will do a sanity check to make sure PIL can actually open the file.\n",
    "    Passed to the is_valid_file parameter in the ImageFolder.\n",
    "    '''\n",
    "    try:\n",
    "        im = Image.open(path)\n",
    "        return True\n",
    "    except:\n",
    "        return False"
   ]
  },
  {
   "cell_type": "code",
   "execution_count": 54,
   "metadata": {
    "colab": {},
    "colab_type": "code",
    "id": "bkuALGjXk0Mh"
   },
   "outputs": [],
   "source": [
    "train_data = torchvision.datasets.ImageFolder(root=train_path, transform=img_transforms, is_valid_file=check_image)\n",
    "val_data = torchvision.datasets.ImageFolder(root=val_path, transform=img_transforms, is_valid_file=check_image)\n",
    "test_data = torchvision.datasets.ImageFolder(root=test_path, transform=img_transforms, is_valid_file=check_image)"
   ]
  },
  {
   "cell_type": "markdown",
   "metadata": {
    "colab_type": "text",
    "id": "62nX_E8Vk0Mt"
   },
   "source": [
    "Create data loaders"
   ]
  },
  {
   "cell_type": "code",
   "execution_count": 55,
   "metadata": {
    "colab": {},
    "colab_type": "code",
    "id": "WOcB3LRhk0Mv"
   },
   "outputs": [],
   "source": [
    "train_loader = torch.utils.data.DataLoader(train_data, batch_size=BATCH_SIZE)\n",
    "val_loader = torch.utils.data.DataLoader(val_data, batch_size=BATCH_SIZE)\n",
    "test_loader = torch.utils.data.DataLoader(test_data, batch_size=BATCH_SIZE)"
   ]
  },
  {
   "cell_type": "markdown",
   "metadata": {
    "colab_type": "text",
    "id": "CUWBOC8Qk0M8"
   },
   "source": [
    "**Create model**"
   ]
  },
  {
   "cell_type": "code",
   "execution_count": 56,
   "metadata": {
    "colab": {},
    "colab_type": "code",
    "id": "KpO0o39Ak0M-"
   },
   "outputs": [],
   "source": [
    "class SimpleNet(nn.Module):\n",
    "    \n",
    "    def __init__(self):\n",
    "        super(SimpleNet, self).__init__()\n",
    "        self.fc1 = nn.Linear(INPUT_SIZE * INPUT_SIZE * 3, 84)\n",
    "        self.fc2 = nn.Linear(84, 50)\n",
    "        self.fc3 = nn.Linear(50, 2)\n",
    "        \n",
    "    def forward(self, x):\n",
    "        x = x.view(-1 , INPUT_SIZE * INPUT_SIZE * 3)\n",
    "        x = F.relu(self.fc1(x))\n",
    "        x = F.relu(self.fc2(x))\n",
    "        x = self.fc3(x) #Final Softmax will be in the loss function - categorical crossentropy\n",
    "        return x"
   ]
  },
  {
   "cell_type": "code",
   "execution_count": 57,
   "metadata": {
    "colab": {},
    "colab_type": "code",
    "id": "TWeEQtvvk0NK"
   },
   "outputs": [],
   "source": [
    "simplenet = SimpleNet()\n",
    "loss_fn = nn.CrossEntropyLoss()\n",
    "optimizer = optim.Adam(simplenet.parameters(), lr=0.001)"
   ]
  },
  {
   "cell_type": "markdown",
   "metadata": {
    "colab_type": "text",
    "id": "xvVx8-Gvk0NY"
   },
   "source": [
    "**Send model to GPU**"
   ]
  },
  {
   "cell_type": "code",
   "execution_count": 58,
   "metadata": {
    "colab": {
     "base_uri": "https://localhost:8080/",
     "height": 121
    },
    "colab_type": "code",
    "id": "5LI3me8ak0Nb",
    "outputId": "672c8002-488b-4544-ddd3-cb8a203b800b"
   },
   "outputs": [
    {
     "name": "stdout",
     "output_type": "stream",
     "text": [
      "Is cuda available? -  False\n"
     ]
    },
    {
     "data": {
      "text/plain": [
       "SimpleNet(\n",
       "  (fc1): Linear(in_features=12288, out_features=84, bias=True)\n",
       "  (fc2): Linear(in_features=84, out_features=50, bias=True)\n",
       "  (fc3): Linear(in_features=50, out_features=2, bias=True)\n",
       ")"
      ]
     },
     "execution_count": 58,
     "metadata": {},
     "output_type": "execute_result"
    }
   ],
   "source": [
    "print('Is cuda available? - ', torch.cuda.is_available())\n",
    "\n",
    "if torch.cuda.is_available():\n",
    "    device = torch.device('cuda')\n",
    "else:\n",
    "    device = torch.device('cpu')\n",
    "    \n",
    "simplenet.to(device)"
   ]
  },
  {
   "cell_type": "code",
   "execution_count": 59,
   "metadata": {
    "colab": {
     "base_uri": "https://localhost:8080/",
     "height": 34
    },
    "colab_type": "code",
    "id": "5LnTEi4Dk0Nm",
    "outputId": "3948f01f-c819-44f8-ba3e-117ebbab96d7"
   },
   "outputs": [
    {
     "data": {
      "text/plain": [
       "device(type='cpu')"
      ]
     },
     "execution_count": 59,
     "metadata": {},
     "output_type": "execute_result"
    }
   ],
   "source": [
    "device"
   ]
  },
  {
   "cell_type": "markdown",
   "metadata": {
    "colab_type": "text",
    "id": "49kX5nZ1k0Ny"
   },
   "source": [
    "**Training**"
   ]
  },
  {
   "cell_type": "code",
   "execution_count": 60,
   "metadata": {
    "colab": {},
    "colab_type": "code",
    "id": "3KfcE1J9k0OF"
   },
   "outputs": [],
   "source": [
    "def train(model, optimizer, loss_fn, train_loader, val_loader, epochs=None, device='cuda'):\n",
    "    '''\n",
    "    device option copy on cpu/gpu only batch, not model. Model was sent to cpu/gpu in the cell below!\n",
    "    '''\n",
    "    for epoch in range(epochs):\n",
    "        training_loss = 0\n",
    "        val_loss = 0\n",
    "        \n",
    "        model.train() #set model to the train mode\n",
    "        for batch in train_loader:\n",
    "            optimizer.zero_grad() #set gradients to zero for every new bath\n",
    "            inputs, targets = batch\n",
    "            inputs = inputs.to(device)\n",
    "            targets = targets.to(device)\n",
    "            output = model(inputs)\n",
    "            loss = loss_fn(output, targets)\n",
    "            loss.backward() # backward propagation\n",
    "            optimizer.step() # update weights\n",
    "            training_loss += loss.data.item() * inputs.size(0)\n",
    "        training_loss /= len(train_loader.dataset)\n",
    "            \n",
    "        model.eval()\n",
    "        num_correct = 0\n",
    "        num_examples = 0\n",
    "        for batch in val_loader:\n",
    "            inputs, targets = batch\n",
    "            inputs = inputs.to(device)\n",
    "            targets = targets.to(device)\n",
    "            output = model(inputs)\n",
    "            loss = loss_fn(output, targets)\n",
    "            val_loss += loss.data.item() * inputs.size(0)\n",
    "            correct = torch.eq(torch.max(F.softmax(output, dim=1), dim=1)[1], targets)\n",
    "            num_correct += torch.sum(correct).item()\n",
    "            num_examples += correct.shape[0]\n",
    "        val_loss /= len(val_loader.dataset)\n",
    "        \n",
    "        print('Epoch: {}, Training Loss: {:.2f}, Validation Loss: {:.2f}, accuracy = {:.2f}'.\\\n",
    "              format(epoch, training_loss, val_loss, num_correct / num_examples)) "
   ]
  },
  {
   "cell_type": "code",
   "execution_count": 61,
   "metadata": {
    "colab": {
     "base_uri": "https://localhost:8080/",
     "height": 104
    },
    "colab_type": "code",
    "id": "Xx8SvMLMk0OO",
    "outputId": "18abdd55-ed51-44fc-d3d8-c9fafee5e2f3"
   },
   "outputs": [
    {
     "name": "stdout",
     "output_type": "stream",
     "text": [
      "Epoch: 0, Training Loss: 3.79, Validation Loss: 6.05, accuracy = 0.31\n",
      "Epoch: 1, Training Loss: 3.16, Validation Loss: 5.37, accuracy = 0.28\n",
      "Epoch: 2, Training Loss: 2.53, Validation Loss: 0.90, accuracy = 0.53\n",
      "Epoch: 3, Training Loss: 0.82, Validation Loss: 0.77, accuracy = 0.62\n",
      "Epoch: 4, Training Loss: 0.56, Validation Loss: 0.66, accuracy = 0.71\n",
      "Epoch: 5, Training Loss: 0.45, Validation Loss: 0.63, accuracy = 0.70\n",
      "Epoch: 6, Training Loss: 0.39, Validation Loss: 0.66, accuracy = 0.71\n",
      "Epoch: 7, Training Loss: 0.37, Validation Loss: 0.66, accuracy = 0.72\n",
      "Epoch: 8, Training Loss: 0.33, Validation Loss: 0.70, accuracy = 0.68\n",
      "Epoch: 9, Training Loss: 0.32, Validation Loss: 0.67, accuracy = 0.71\n"
     ]
    }
   ],
   "source": [
    "train(simplenet, optimizer, nn.CrossEntropyLoss(), train_loader,val_loader, epochs=10, device=device)"
   ]
  },
  {
   "cell_type": "markdown",
   "metadata": {
    "colab_type": "text",
    "id": "kBajL_LCk0OX"
   },
   "source": [
    "**Making predictions**"
   ]
  },
  {
   "cell_type": "code",
   "execution_count": 62,
   "metadata": {
    "colab": {},
    "colab_type": "code",
    "id": "m87tt1tLyXHT"
   },
   "outputs": [],
   "source": [
    "def url_to_image(url, save_path=None):\n",
    "    '''\n",
    "    Download the image by url-link, convert it to a NumPy array. Encode it into OpenCV format.\n",
    "    input:\n",
    "        url - direct url link to image \n",
    "    output:\n",
    "        OpenCV image.\n",
    "    '''\n",
    "    resp = urllib.request.urlopen(url)\n",
    "    image = np.asarray(bytearray(resp.read()), dtype=\"uint8\")\n",
    "\n",
    "    image = cv2.imdecode(image, cv2.IMREAD_COLOR)\n",
    "    if save_path is not None:\n",
    "        cv2.imwrite(save_path, image)\n",
    "    else:\n",
    "        return image"
   ]
  },
  {
   "cell_type": "code",
   "execution_count": 63,
   "metadata": {
    "colab": {},
    "colab_type": "code",
    "id": "EEtmrq8Lyycd"
   },
   "outputs": [],
   "source": [
    "img_url = 'https://images.unsplash.com/photo-1524704654690-b56c05c78a00?ixlib=rb-1.2.1&ixid=eyJhcHBfaWQiOjEyMDd9&w=1000&q=80'\n",
    "url_to_image(img_url, './ch2/sample_img.jpg')"
   ]
  },
  {
   "cell_type": "code",
   "execution_count": 64,
   "metadata": {
    "colab": {
     "base_uri": "https://localhost:8080/",
     "height": 351
    },
    "colab_type": "code",
    "id": "Ia9Qr7IgzRT3",
    "outputId": "ba7d9213-d204-4ba9-fe1e-9070743236b0"
   },
   "outputs": [
    {
     "data": {
      "image/png": "[encoded data removed]",
      "text/plain": [
       "<Figure size 432x288 with 1 Axes>"
      ]
     },
     "metadata": {
      "needs_background": "light"
     },
     "output_type": "display_data"
    }
   ],
   "source": [
    "img = cv2.imread('./ch2/sample_img.jpg')\n",
    "plt.imshow(cv2.resize(img, (0, 0), fx=0.5, fy=0.5)[:,:,::-1])\n",
    "plt.show()"
   ]
  },
  {
   "cell_type": "code",
   "execution_count": 65,
   "metadata": {
    "colab": {
     "base_uri": "https://localhost:8080/",
     "height": 34
    },
    "colab_type": "code",
    "id": "S6KJica8zZtG",
    "outputId": "7178272f-4b82-42e6-fb36-9f17f06a40ef"
   },
   "outputs": [
    {
     "name": "stdout",
     "output_type": "stream",
     "text": [
      "tensor([[0.4446, 0.5554]], grad_fn=<SoftmaxBackward>)\n",
      "fish\n"
     ]
    }
   ],
   "source": [
    "labels = ['cat', 'fish']\n",
    "raw_img = Image.open('./ch2/sample_img.jpg')\n",
    "img = img_transforms(raw_img).to(device)\n",
    "\n",
    "preds = F.softmax(simplenet(img), dim=1)\n",
    "print(preds)\n",
    "print(labels[preds.argmax().item()])\n"
   ]
  },
  {
   "cell_type": "markdown",
   "metadata": {
    "colab_type": "text",
    "id": "gWCyBzys0ELr"
   },
   "source": [
    "**Saving models**"
   ]
  },
  {
   "cell_type": "code",
   "execution_count": 67,
   "metadata": {
    "colab": {},
    "colab_type": "code",
    "id": "fWI7PG5s0iQD"
   },
   "outputs": [],
   "source": [
    "# Entire model\n",
    "torch.save(simplenet, \"./ch2/simplenet\") \n",
    "simplenet = torch.load(\"./ch2/simplenet\")"
   ]
  },
  {
   "cell_type": "code",
   "execution_count": 68,
   "metadata": {
    "colab": {
     "base_uri": "https://localhost:8080/",
     "height": 34
    },
    "colab_type": "code",
    "id": "yzDwYDck1K1u",
    "outputId": "b2e66f64-522b-43b8-addb-532149908e6a"
   },
   "outputs": [
    {
     "data": {
      "text/plain": [
       "<All keys matched successfully>"
      ]
     },
     "execution_count": 68,
     "metadata": {},
     "output_type": "execute_result"
    }
   ],
   "source": [
    "# Weights only\n",
    "torch.save(simplenet.state_dict(), \"./ch2/simplenet_weights\")    \n",
    "simplenet = SimpleNet()\n",
    "simplenet_state_dict = torch.load(\"./ch2/simplenet_weights\")\n",
    "simplenet.load_state_dict(simplenet_state_dict)"
   ]
  },
  {
   "cell_type": "code",
   "execution_count": null,
   "metadata": {
    "colab": {},
    "colab_type": "code",
    "id": "PIuMwb2f1ZnD"
   },
   "outputs": [],
   "source": []
  }
 ],
 "metadata": {
  "accelerator": "GPU",
  "colab": {
   "collapsed_sections": [],
   "include_colab_link": true,
   "name": "Chapter 2. Perceptron image classificator.ipynb",
   "provenance": []
  },
  "kernelspec": {
   "display_name": "Python 3",
   "language": "python",
   "name": "python3"
  },
  "language_info": {
   "codemirror_mode": {
    "name": "ipython",
    "version": 3
   },
   "file_extension": ".py",
   "mimetype": "text/x-python",
   "name": "python",
   "nbconvert_exporter": "python",
   "pygments_lexer": "ipython3",
   "version": "3.7.8"
  }
 },
 "nbformat": 4,
 "nbformat_minor": 1
}
